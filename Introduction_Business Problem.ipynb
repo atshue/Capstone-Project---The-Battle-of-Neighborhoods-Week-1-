{
 "cells": [
  {
   "cell_type": "markdown",
   "metadata": {
    "collapsed": true
   },
   "source": [
    "# The Battle of Neighborhoods Intro/Business Problem"
   ]
  },
  {
   "cell_type": "markdown",
   "metadata": {},
   "source": [
    "Intro:\n",
    "\n",
    "The purpose of this project is to help identify better neighborhoods for people who are looking for good neighboorhoods in Scarborough, Toronto. \n",
    "\n",
    "The audience of this project is the people who are seeking good neighborhoods to live in Toronto. They will care about this problem because this project will help them select a good neighborhood for them.\n",
    "\n",
    "This project will help people understand the neighborhood and help them select the best one for their purposes.\n",
    "\n",
    "The goal of this project is to analyze a variety of features of Scarborough and the neighborhoods around this area and compare them. The variables being compared include school ratings, median housing price, crime rates, weather conditions, and resources.\n",
    "\n",
    "Scarborough is a neigborhood that is growing in popularity, and is gaining many residents. This neighborhood is especially popular among immigrants."
   ]
  },
  {
   "cell_type": "markdown",
   "metadata": {},
   "source": [
    "Main purpose of this project:\n",
    "\n",
    "The main purpose of this project is to suggest a better neighborhood in a new city for the people interested. \n",
    "\n",
    "Comparing infrastructure\n",
    "\n",
    "Sorted list of house in terms of housing prices in order\n",
    "\n",
    "Sorted list of schools in terms of location, fees, rating and reviews"
   ]
  },
  {
   "cell_type": "code",
   "execution_count": null,
   "metadata": {},
   "outputs": [],
   "source": []
  }
 ],
 "metadata": {
  "kernelspec": {
   "display_name": "Python 3.6",
   "language": "python",
   "name": "python3"
  },
  "language_info": {
   "codemirror_mode": {
    "name": "ipython",
    "version": 3
   },
   "file_extension": ".py",
   "mimetype": "text/x-python",
   "name": "python",
   "nbconvert_exporter": "python",
   "pygments_lexer": "ipython3",
   "version": "3.6.9"
  }
 },
 "nbformat": 4,
 "nbformat_minor": 1
}
